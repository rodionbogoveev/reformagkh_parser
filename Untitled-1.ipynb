{
 "cells": [
  {
   "cell_type": "code",
   "execution_count": 19,
   "metadata": {},
   "outputs": [],
   "source": [
    "import openpyxl"
   ]
  },
  {
   "cell_type": "code",
   "execution_count": null,
   "metadata": {},
   "outputs": [],
   "source": [
    "    data = openpyxl.open('test_data.xlsx', read_only=True)\n",
    "    sheet = data.active\n",
    "    for row in range(2, sheet.max_row + 1):\n",
    "        row = sheet[row]\n",
    "        region = row[2].value.split()[0]\n",
    "        settle_val = row[4].value\n",
    "        settlement = settle_val if settle_val is not None else ''\n",
    "        settlement_type = row[3].value if row[3].value is not None else ''\n",
    "        street_val = row[6].value\n",
    "        street = street_val if street_val != None else ''\n",
    "        street_type = row[5].value if row[5].value is not None else ''\n",
    "        house = row[7].value if row[7].value is not None else ''\n",
    "        block = f' Корпус {row[8].value}' if row[8].value is not None else ''\n",
    "        house_block = str(house) + block\n",
    "        print(\n",
    "            f'{region}, {settlement} {settlement_type}, {street} {street_type}, '\n",
    "            f'Дом {house_block}'\n",
    "        )\n"
   ]
  },
  {
   "cell_type": "code",
   "execution_count": 61,
   "metadata": {},
   "outputs": [],
   "source": [
    "query = {\n",
    "    'region': 'Санкт-Петербург', \n",
    "    'settlement': ' ', \n",
    "    'street': 'Репищева ул', \n",
    "    'house': 'Дом 21 Корпус 1'\n",
    "}"
   ]
  },
  {
   "cell_type": "code",
   "execution_count": 32,
   "metadata": {},
   "outputs": [],
   "source": [
    "from urllib.parse import quote\n",
    "a = 'г. Санкт-Петербург, ул. Репищева, д. 21, к. 1'"
   ]
  },
  {
   "cell_type": "code",
   "execution_count": null,
   "metadata": {},
   "outputs": [],
   "source": [
    "from reformagkh_parser.site_parser.models import Source, Result"
   ]
  },
  {
   "cell_type": "code",
   "execution_count": 7,
   "metadata": {},
   "outputs": [
    {
     "name": "stdout",
     "output_type": "stream",
     "text": [
      "a\n"
     ]
    }
   ],
   "source": [
    "if not x:\n",
    "    print('a')"
   ]
  }
 ],
 "metadata": {
  "interpreter": {
   "hash": "8c753cb9d106df941702db8e6f6b40cc82631677c2b8a03e21944691ff15e84b"
  },
  "kernelspec": {
   "display_name": "Python 3.7.9 64-bit ('venv': venv)",
   "language": "python",
   "name": "python3"
  },
  "language_info": {
   "codemirror_mode": {
    "name": "ipython",
    "version": 3
   },
   "file_extension": ".py",
   "mimetype": "text/x-python",
   "name": "python",
   "nbconvert_exporter": "python",
   "pygments_lexer": "ipython3",
   "version": "3.7.9"
  },
  "orig_nbformat": 4
 },
 "nbformat": 4,
 "nbformat_minor": 2
}
